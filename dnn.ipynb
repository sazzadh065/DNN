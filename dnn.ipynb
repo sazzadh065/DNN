{
  "nbformat": 4,
  "nbformat_minor": 0,
  "metadata": {
    "colab": {
      "provenance": []
    },
    "kernelspec": {
      "name": "python3",
      "display_name": "Python 3"
    },
    "language_info": {
      "name": "python"
    }
  },
  "cells": [
    {
      "cell_type": "code",
      "source": [
        "import copy\n",
        "import matplotlib.pyplot as plt\n",
        "import numpy as np\n",
        "import pandas as pd\n",
        "import torch\n",
        "import torch.nn as nn\n",
        "import torch.optim as optim\n",
        "from sklearn.model_selection import train_test_split\n",
        "from sklearn.preprocessing import StandardScaler\n",
        "from torch.utils.data import Dataset, DataLoader"
      ],
      "metadata": {
        "id": "LtFJdGP_OWDb"
      },
      "execution_count": 1,
      "outputs": []
    },
    {
      "cell_type": "code",
      "source": [
        "data = pd.read_csv('trainData.data', delimiter = ' ', header = None)"
      ],
      "metadata": {
        "id": "B57BhtDNOY00"
      },
      "execution_count": 2,
      "outputs": []
    },
    {
      "cell_type": "code",
      "source": [
        "X = data.iloc[:, :-1]\n",
        "Y = data.iloc[:, -1]"
      ],
      "metadata": {
        "id": "s-aI466IOb4T"
      },
      "execution_count": 3,
      "outputs": []
    },
    {
      "cell_type": "code",
      "source": [
        "# Standardizing data\n",
        "scaler = StandardScaler()\n",
        "scaler.fit(X)\n",
        "scaler.transform(X)\n",
        "\n",
        "#scaler.fit_transform(X)"
      ],
      "metadata": {
        "colab": {
          "base_uri": "https://localhost:8080/"
        },
        "id": "xpzrga0MZmZQ",
        "outputId": "1aae2821-363a-4a43-eac0-a0b03a13f804"
      },
      "execution_count": 4,
      "outputs": [
        {
          "output_type": "execute_result",
          "data": {
            "text/plain": [
              "array([[ 0.67429718, -0.66041367, -1.34858796, ..., -1.44298362,\n",
              "         0.27526042, -1.08943129],\n",
              "       [-0.11511662, -0.48380799,  0.52414012, ..., -1.36925386,\n",
              "        -1.09997337,  0.70900002],\n",
              "       [-2.39273398,  2.91562597,  2.1118062 , ..., -1.1587686 ,\n",
              "         1.23454031,  0.19986577],\n",
              "       ...,\n",
              "       [-1.18934115,  0.85688533,  0.78507014, ..., -0.77075231,\n",
              "         1.4621364 , -1.61840523],\n",
              "       [ 0.96277293,  0.60066653, -0.00723339, ..., -0.80261814,\n",
              "         1.70600332,  0.7459598 ],\n",
              "       [-1.36269156,  0.96184025, -0.0798191 , ..., -1.15154195,\n",
              "        -1.36968334,  1.0057203 ]])"
            ]
          },
          "metadata": {},
          "execution_count": 4
        }
      ]
    },
    {
      "cell_type": "code",
      "source": [
        "X_train_raw, X_val_raw, y_train, y_val = train_test_split(X, Y, train_size=0.8, shuffle=True)"
      ],
      "metadata": {
        "id": "KqPRuIsWebyE"
      },
      "execution_count": 5,
      "outputs": []
    },
    {
      "cell_type": "code",
      "source": [
        "X_train = torch.tensor(X_train_raw.values, dtype=torch.float32)\n",
        "y_train = torch.tensor(y_train.values, dtype=torch.float32).reshape(-1,1)\n",
        "X_val = torch.tensor(X_val_raw.values, dtype=torch.float32)\n",
        "y_val = torch.tensor(y_val.values, dtype=torch.float32).reshape(-1, 1)"
      ],
      "metadata": {
        "id": "wG_sgu1zeeKE"
      },
      "execution_count": 6,
      "outputs": []
    },
    {
      "cell_type": "code",
      "source": [
        "class NeuralNetwork(nn.Module):\n",
        "    def __init__(self, input_features, output_features):\n",
        "        super().__init__()\n",
        "        self.stack = nn.Sequential(\n",
        "            nn.Linear(input_features, 80),\n",
        "            nn.ReLU(),\n",
        "            nn.Linear(80, 50),\n",
        "            nn.ReLU(),\n",
        "            nn.Linear(50, 10),\n",
        "            nn.ReLU(),\n",
        "            nn.Linear(10,output_features))\n",
        "    def forward(self, x):\n",
        "        logits = self.stack(x)\n",
        "        return logits\n",
        "\n",
        "#self.layer1 = nn.Linear(input_size, hidden_size)\n",
        "#self.layer2 = nn.Linear(hidden_size, hidden_size)\n",
        "#self.layer3 = nn.Linear(hidden_size, num_classes)\n",
        "#self.activation_function = activation_function\n",
        "\n",
        " #   def forward(self, x):\n",
        " #       x = self.activation_function(self.layer1(x))\n",
        " #       x = self.activation_function(self.layer2(x))\n",
        "  #      x = self.layer3(x)\n",
        "   #     return x"
      ],
      "metadata": {
        "id": "A-yRs5VrhCPX"
      },
      "execution_count": 42,
      "outputs": []
    },
    {
      "cell_type": "code",
      "source": [
        "model = NeuralNetwork(105, 1)"
      ],
      "metadata": {
        "id": "J26AhUWWF1BN"
      },
      "execution_count": 43,
      "outputs": []
    },
    {
      "cell_type": "code",
      "source": [
        "loss_fn = nn.MSELoss()\n",
        "opt = optim.SGD(model.parameters(), lr=0.01)\n",
        "n_epochs = 10\n",
        "batch_size = 1000"
      ],
      "metadata": {
        "id": "mFgrPNse1myw"
      },
      "execution_count": 44,
      "outputs": []
    },
    {
      "cell_type": "code",
      "source": [],
      "metadata": {
        "id": "HqoMXih2TV-K"
      },
      "execution_count": 44,
      "outputs": []
    },
    {
      "cell_type": "code",
      "source": [
        "loader = DataLoader(list(zip(X_train,y_train)), shuffle=True, batch_size=batch_size)\n"
      ],
      "metadata": {
        "id": "68OniEXaD2oJ"
      },
      "execution_count": 45,
      "outputs": []
    },
    {
      "cell_type": "code",
      "source": [
        "def train_loop(dataloader, model, loss_fn, optimizer):\n",
        "    size = len(dataloader.dataset)\n",
        "    # Set the model to training mode - important for batch normalization and dropout layers\n",
        "    # Unnecessary in this situation but added for best practices\n",
        "    model.train()\n",
        "    for batch, (X, y) in enumerate(dataloader):\n",
        "      optimizer.zero_grad()\n",
        "\n",
        "      # Compute prediction and loss\n",
        "      #print(X)\n",
        "      pred = model(X)\n",
        "      loss = loss_fn(pred, y)\n",
        "\n",
        "        # Backpropagation\n",
        "      loss.backward()\n",
        "      optimizer.step()\n",
        "      optimizer.zero_grad()\n",
        "\n",
        "      if batch % 100 == 0:\n",
        "        loss, current = loss.item(), (batch + 1) * len(X)\n",
        "        print(f\"loss: {loss:>7f}  [{current:>5d}/{size:>5d}]\")\n",
        "\n",
        "\n",
        "def test_loop(dataloader, model, loss_fn):\n",
        "    # Set the model to evaluation mode - important for batch normalization and dropout layers\n",
        "    # Unnecessary in this situation but added for best practices\n",
        "    model.eval()\n",
        "    size = len(dataloader.dataset)\n",
        "    num_batches = len(dataloader)\n",
        "    test_loss, correct = 0, 0\n",
        "\n",
        "    # Evaluating the model with torch.no_grad() ensures that no gradients are computed during test mode\n",
        "    # also serves to reduce unnecessary gradient computations and memory usage for tensors with requires_grad=True\n",
        "    with torch.no_grad():\n",
        "      for X, y in dataloader:\n",
        "        pred = model(X)\n",
        "        test_loss += loss_fn(pred, y).item()\n",
        "        correct += (pred.argmax(1) == y).type(torch.float).sum().item()\n",
        "\n",
        "    test_loss /= num_batches\n",
        "    correct /= size\n",
        "    print(f\"Test Error: \\n Accuracy: {(100*correct):>0.1f}%, Avg loss: {test_loss:>8f} \\n\")\n",
        "\n",
        "#loss_fn = nn.CrossEntropyLoss()\n",
        "#optimizer = torch.optim.SGD(model.parameters(), lr=learning_rate)\n",
        "\n",
        "epochs = 10\n",
        "for t in range(epochs):\n",
        "    print(f\"Epoch {t+1}\\n-------------------------------\")\n",
        "    train_loop(loader, model, loss_fn, opt)\n",
        "    test_loop(loader, model, loss_fn)\n",
        "print(\"Done!\")"
      ],
      "metadata": {
        "colab": {
          "base_uri": "https://localhost:8080/"
        },
        "id": "BTTUEdD-M8_U",
        "outputId": "da75ddf0-d875-4b79-9a94-bab0665921cb"
      },
      "execution_count": 47,
      "outputs": [
        {
          "output_type": "stream",
          "name": "stdout",
          "text": [
            "Epoch 1\n",
            "-------------------------------\n",
            "loss: 0.000066  [ 1000/240000]\n",
            "loss: 0.000067  [101000/240000]\n",
            "loss: 0.000060  [201000/240000]\n",
            "Test Error: \n",
            " Accuracy: 0.0%, Avg loss: 0.000063 \n",
            "\n",
            "Epoch 2\n",
            "-------------------------------\n",
            "loss: 0.000063  [ 1000/240000]\n",
            "loss: 0.000062  [101000/240000]\n",
            "loss: 0.000063  [201000/240000]\n",
            "Test Error: \n",
            " Accuracy: 0.0%, Avg loss: 0.000062 \n",
            "\n",
            "Epoch 3\n",
            "-------------------------------\n",
            "loss: 0.000059  [ 1000/240000]\n",
            "loss: 0.000069  [101000/240000]\n",
            "loss: 0.000057  [201000/240000]\n",
            "Test Error: \n",
            " Accuracy: 0.0%, Avg loss: 0.000061 \n",
            "\n",
            "Epoch 4\n",
            "-------------------------------\n",
            "loss: 0.000056  [ 1000/240000]\n",
            "loss: 0.000055  [101000/240000]\n",
            "loss: 0.000058  [201000/240000]\n",
            "Test Error: \n",
            " Accuracy: 0.0%, Avg loss: 0.000060 \n",
            "\n",
            "Epoch 5\n",
            "-------------------------------\n",
            "loss: 0.000062  [ 1000/240000]\n",
            "loss: 0.000060  [101000/240000]\n",
            "loss: 0.000059  [201000/240000]\n",
            "Test Error: \n",
            " Accuracy: 0.0%, Avg loss: 0.000058 \n",
            "\n",
            "Epoch 6\n",
            "-------------------------------\n",
            "loss: 0.000057  [ 1000/240000]\n",
            "loss: 0.000057  [101000/240000]\n",
            "loss: 0.000056  [201000/240000]\n",
            "Test Error: \n",
            " Accuracy: 0.0%, Avg loss: 0.000057 \n",
            "\n",
            "Epoch 7\n",
            "-------------------------------\n",
            "loss: 0.000055  [ 1000/240000]\n",
            "loss: 0.000057  [101000/240000]\n",
            "loss: 0.000058  [201000/240000]\n",
            "Test Error: \n",
            " Accuracy: 0.0%, Avg loss: 0.000056 \n",
            "\n",
            "Epoch 8\n",
            "-------------------------------\n",
            "loss: 0.000055  [ 1000/240000]\n",
            "loss: 0.000058  [101000/240000]\n",
            "loss: 0.000055  [201000/240000]\n",
            "Test Error: \n",
            " Accuracy: 0.0%, Avg loss: 0.000055 \n",
            "\n",
            "Epoch 9\n",
            "-------------------------------\n",
            "loss: 0.000053  [ 1000/240000]\n",
            "loss: 0.000054  [101000/240000]\n",
            "loss: 0.000052  [201000/240000]\n",
            "Test Error: \n",
            " Accuracy: 0.0%, Avg loss: 0.000054 \n",
            "\n",
            "Epoch 10\n",
            "-------------------------------\n",
            "loss: 0.000058  [ 1000/240000]\n",
            "loss: 0.000053  [101000/240000]\n",
            "loss: 0.000053  [201000/240000]\n",
            "Test Error: \n",
            " Accuracy: 0.0%, Avg loss: 0.000054 \n",
            "\n",
            "Done!\n"
          ]
        }
      ]
    }
  ]
}